{
  "nbformat": 4,
  "nbformat_minor": 0,
  "metadata": {
    "colab": {
      "name": "BasketballPredictor.ipynb",
      "provenance": [],
      "authorship_tag": "ABX9TyMoH1fUpGQBERiJwt16uQ94"
    },
    "kernelspec": {
      "name": "python3",
      "display_name": "Python 3"
    }
  },
  "cells": [
    {
      "cell_type": "markdown",
      "metadata": {
        "id": "Ltt62Q0nDgxh",
        "colab_type": "text"
      },
      "source": [
        "Offensive Win Shares = ((Points Produced) - 0.92(League Points Per Possession)*(Offensive Possessions))/(0.32*(League Points Per Game)*((Team Pace)/(League Pace)))\n",
        "\n",
        "Defensive Win Shares = ((Player Minutes Played/Team Minutes Played)*(Team Defensive Possessions)*(1.08*(League Points Per Possession)-((Defensive Rating)/100)))/(0.32*(League Points Per Game)*((Team Pace)/(League Pace)))\n",
        "\n",
        "TOTAL WIN SHARES = OFFENSIVE WIN SHARES + DEFENSIVE WIN SHARES"
      ]
    },
    {
      "cell_type": "code",
      "metadata": {
        "id": "lsB0w4dQUnX1",
        "colab_type": "code",
        "colab": {}
      },
      "source": [
        "#Data Preprocessing\n",
        "import pandas as pd\n",
        "\n",
        "#Produces a prediction model in the form of an ensemble of weak prediction models, typically decision tress\n",
        "import xgboost as xgb\n",
        "\n",
        "#The outcome (dependent variable) has only a limited number of possible values.\n",
        "#Logistic Regression is used when response variable is categorical in nature.\n",
        "from sklearn.linear_model import LogisticRegression\n",
        "\n",
        "#A random forest is a meta estimator that fits a number of decision tree classifiers\n",
        "#on various sub-samples of the dataset and use averaging to improve the predictive\n",
        "#accuracy and control over-fitting.\n",
        "from sklearn.ensemble import RandomForestClassifier\n",
        "\n",
        "#a discriminative classifier formally defined by a seperating hyperplane.\n",
        "from sklearn.svm import SVC\n",
        "\n",
        "#display data\n",
        "from IPython.display import display"
      ],
      "execution_count": 0,
      "outputs": []
    },
    {
      "cell_type": "code",
      "metadata": {
        "id": "D1JOzn2J42e-",
        "colab_type": "code",
        "colab": {}
      },
      "source": [
        "\n",
        "#Player (name)\n",
        "#Pos (Position)\n",
        "#G (Games)\n",
        "#GS (Games Started)\n",
        "#MP (Minutes Played)\n",
        "#PER (Player Efficiency Rating)\n",
        "#TS% (True Shooting %)\n",
        "#3PAr (3-Point Attempt Rate)\n",
        "#FTr (Free Throw Rate)\n",
        "#ORB% (Offensive Rebound Percentage)\n",
        "#DRB% (Defensive Rebound Percentage)\n",
        "#TRB% (Total Rebound Percentage)\n",
        "#AST% (Assist Percentage)\n",
        "#STL% (Steal Percentage)\n",
        "#BLK% (Block Percentage)\n",
        "#TOV% (Turnover Percentage)\n",
        "#USG% (Usage Percentage)\n",
        "#OWS (Offensive Win Shares)\n",
        "#DWS (Defensive Win Shares)\n",
        "#WS (Win Shares)\n",
        "#WS/48 (Win Shares Per 48 Minutes)\n",
        "#OBPM (Offensive Box Plus/Minus)\n",
        "#DBPM (Defensive Box Plus/Minus)\n",
        "#BPM (Box Plus/Minus)\n",
        "#VORP (Value Over Replacement)\n",
        "#FG (Field Goals)\n",
        "#FGA (Field Goal Attempts)\n",
        "#FG% (Field Goal Percentage)\n",
        "#3P (3-Point Field Goals)\n",
        "#3PA (3-Point Field Goal Attempts)\n",
        "#3P% (3-Point Field Goal Percentage)\n",
        "#2P (2-Point Field Goals)\n",
        "#2PA (2-Point Field Goal Attempts)\n",
        "#2P% (2-Point Field Goal Percentage)\n",
        "#eFG% (Effective Field Goal Percentage)\n",
        "#FT (Free Throws)\n",
        "#FTA (Free Throw Attempts)\n",
        "#FT% (Free Throw Percentage)\n",
        "#ORB (Offensive Rebounds)\n",
        "#DRB (Defensive Rebounds)\n",
        "#TRB (Total Rebounds)\n",
        "#AST (Assists)\n",
        "#STL (Steals)\n",
        "#BLK (Blocks)\n",
        "#TOV (Turnovers)\n",
        "#PF (Personal Fouls)\n",
        "#PTS (Points)"
      ],
      "execution_count": 0,
      "outputs": []
    }
  ]
}